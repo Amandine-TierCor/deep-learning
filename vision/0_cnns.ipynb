{
 "cells": [
  {
   "cell_type": "markdown",
   "id": "c0eeddc4",
   "metadata": {},
   "source": [
    "# Convolutional Neural Networks BE"
   ]
  },
  {
   "cell_type": "code",
   "execution_count": null,
   "id": "4dfc4248",
   "metadata": {},
   "outputs": [],
   "source": [
    "import numpy as np"
   ]
  },
  {
   "cell_type": "markdown",
   "id": "785c646f",
   "metadata": {},
   "source": [
    "Exercise : generate a random image"
   ]
  },
  {
   "cell_type": "code",
   "execution_count": null,
   "id": "0ca312a1",
   "metadata": {},
   "outputs": [],
   "source": [
    "# Put your code here"
   ]
  },
  {
   "cell_type": "code",
   "execution_count": null,
   "id": "52f264d6",
   "metadata": {},
   "outputs": [],
   "source": [
    "print(x)"
   ]
  }
 ],
 "metadata": {
  "jupytext": {
   "formats": "ipynb,py:percent"
  },
  "kernelspec": {
   "display_name": "py38-isae",
   "language": "python",
   "name": "py38-isae"
  },
  "language_info": {
   "codemirror_mode": {
    "name": "ipython",
    "version": 3
   },
   "file_extension": ".py",
   "mimetype": "text/x-python",
   "name": "python",
   "nbconvert_exporter": "python",
   "pygments_lexer": "ipython3",
   "version": "3.8.12"
  }
 },
 "nbformat": 4,
 "nbformat_minor": 5
}
